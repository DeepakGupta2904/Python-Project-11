{
 "cells": [
  {
   "cell_type": "code",
   "execution_count": null,
   "id": "2fc97380",
   "metadata": {},
   "outputs": [],
   "source": [
    "%load_ext nb_black"
   ]
  },
  {
   "cell_type": "code",
   "execution_count": null,
   "id": "f1233ef2",
   "metadata": {},
   "outputs": [],
   "source": [
    "import numpy as np\n",
    "import matplotlib.pyplot as plt\n",
    "import pandas as pd"
   ]
  },
  {
   "cell_type": "code",
   "execution_count": null,
   "id": "0d505068",
   "metadata": {},
   "outputs": [],
   "source": [
    "# %matplotlib notebook"
   ]
  },
  {
   "cell_type": "code",
   "execution_count": null,
   "id": "a4c91ab1",
   "metadata": {},
   "outputs": [],
   "source": [
    "dataset = pd.read_csv(\"heart.csv\")"
   ]
  },
  {
   "cell_type": "code",
   "execution_count": null,
   "id": "fb1e1b8d",
   "metadata": {},
   "outputs": [],
   "source": [
    "dataset.head()"
   ]
  },
  {
   "cell_type": "code",
   "execution_count": null,
   "id": "b5abfb98",
   "metadata": {},
   "outputs": [],
   "source": [
    "dataset.info()"
   ]
  },
  {
   "cell_type": "code",
   "execution_count": null,
   "id": "dc17da57",
   "metadata": {},
   "outputs": [],
   "source": [
    "import seaborn as sns"
   ]
  },
  {
   "cell_type": "code",
   "execution_count": null,
   "id": "6c3f976f",
   "metadata": {},
   "outputs": [],
   "source": [
    "sns.displot(dataset[\"thalach\"], kind=\"kde\")\n",
    "plt.xlabel(\"maximum heart rate achieved\")"
   ]
  },
  {
   "cell_type": "code",
   "execution_count": null,
   "id": "4c46187c",
   "metadata": {},
   "outputs": [],
   "source": [
    "dataset[\"thal\"].value_counts()"
   ]
  },
  {
   "cell_type": "code",
   "execution_count": null,
   "id": "3fcb0848",
   "metadata": {},
   "outputs": [],
   "source": [
    "dataset.info()"
   ]
  },
  {
   "cell_type": "code",
   "execution_count": null,
   "id": "19508a47",
   "metadata": {},
   "outputs": [],
   "source": [
    "dataset.head(10)"
   ]
  },
  {
   "cell_type": "code",
   "execution_count": null,
   "id": "fe0f75ab",
   "metadata": {},
   "outputs": [],
   "source": [
    "categorized_sex = pd.get_dummies(dataset[\"sex\"])"
   ]
  },
  {
   "cell_type": "code",
   "execution_count": null,
   "id": "edb136b7",
   "metadata": {},
   "outputs": [],
   "source": [
    "categorized_sex.columns = [\"female\", \"male\"]"
   ]
  },
  {
   "cell_type": "code",
   "execution_count": null,
   "id": "e6c93f11",
   "metadata": {},
   "outputs": [],
   "source": [
    "categorized_data = pd.get_dummies(\n",
    "    data=dataset,\n",
    "    columns=[\"sex\", \"cp\", \"fbs\", \"restecg\", \"exang\", \"slope\", \"ca\", \"thal\", \"target\"],\n",
    "    drop_first=True,\n",
    ")"
   ]
  },
  {
   "cell_type": "code",
   "execution_count": null,
   "id": "ab4bab1c",
   "metadata": {},
   "outputs": [],
   "source": [
    "from sklearn.preprocessing import StandardScaler\n",
    "from sklearn.model_selection import train_test_split\n",
    "from sklearn.linear_model import LogisticRegression\n",
    "from sklearn.metrics import classification_report"
   ]
  },
  {
   "cell_type": "code",
   "execution_count": null,
   "id": "644fddb3",
   "metadata": {},
   "outputs": [],
   "source": [
    "sc = StandardScaler()\n",
    "targets = categorized_data[\"target_1\"]"
   ]
  },
  {
   "cell_type": "code",
   "execution_count": null,
   "id": "d19a2d32",
   "metadata": {},
   "outputs": [],
   "source": [
    "X = categorized_data.drop(columns=[\"target_1\"])"
   ]
  },
  {
   "cell_type": "code",
   "execution_count": null,
   "id": "9e56b65c",
   "metadata": {},
   "outputs": [],
   "source": [
    "new_X = sc.fit_transform(X)"
   ]
  },
  {
   "cell_type": "code",
   "execution_count": null,
   "id": "07d3b789",
   "metadata": {},
   "outputs": [],
   "source": [
    "X_train, X_test, y_train, y_test = train_test_split(\n",
    "    new_X, targets, test_size=0.2, random_state=0\n",
    ")"
   ]
  },
  {
   "cell_type": "code",
   "execution_count": null,
   "id": "ec8c1a96",
   "metadata": {},
   "outputs": [],
   "source": [
    "model = LogisticRegression()"
   ]
  },
  {
   "cell_type": "code",
   "execution_count": null,
   "id": "8199b860",
   "metadata": {},
   "outputs": [],
   "source": [
    "model.fit(X_train, y_train)"
   ]
  },
  {
   "cell_type": "code",
   "execution_count": null,
   "id": "5a73009c",
   "metadata": {},
   "outputs": [],
   "source": [
    "test_predictions = model.predict(X_test)"
   ]
  },
  {
   "cell_type": "code",
   "execution_count": null,
   "id": "b5266672",
   "metadata": {},
   "outputs": [],
   "source": [
    "print(classification_report(y_test, test_predictions))"
   ]
  },
  {
   "cell_type": "code",
   "execution_count": null,
   "id": "3c759823",
   "metadata": {},
   "outputs": [],
   "source": [
    "print(classification_report(y_train, model.predict(X_train)))"
   ]
  },
  {
   "cell_type": "code",
   "execution_count": null,
   "id": "767af983",
   "metadata": {},
   "outputs": [],
   "source": [
    "model.score(X_test, y_test)"
   ]
  },
  {
   "cell_type": "code",
   "execution_count": null,
   "id": "2bc076be",
   "metadata": {},
   "outputs": [],
   "source": [
    "model.score(X_train, y_train)"
   ]
  },
  {
   "cell_type": "code",
   "execution_count": null,
   "id": "ba0b86b1",
   "metadata": {},
   "outputs": [],
   "source": [
    "ataset.corr()[\"target\"]"
   ]
  },
  {
   "cell_type": "code",
   "execution_count": null,
   "id": "a4e8e658",
   "metadata": {},
   "outputs": [],
   "source": [
    "categorized_data.corr()[\"target_1\"]"
   ]
  },
  {
   "cell_type": "code",
   "execution_count": null,
   "id": "a62323c9",
   "metadata": {},
   "outputs": [],
   "source": [
    "X = categorized_data.drop(columns=[\"target_1\"])"
   ]
  },
  {
   "cell_type": "code",
   "execution_count": null,
   "id": "fabfed49",
   "metadata": {},
   "outputs": [],
   "source": [
    "X = X[[\"thalach\", \"cp_1\", \"cp_2\", \"cp_3\", \"restecg_1\", \"slope_2\", \"thal_2\"]]"
   ]
  },
  {
   "cell_type": "code",
   "execution_count": null,
   "id": "61051040",
   "metadata": {},
   "outputs": [],
   "source": [
    "new_x = sc.fit_transform(X)"
   ]
  },
  {
   "cell_type": "code",
   "execution_count": null,
   "id": "de4f5c25",
   "metadata": {},
   "outputs": [],
   "source": [
    "X_train, X_test, y_train, y_test = train_test_split(\n",
    "    new_x, targets, test_size=0.2, random_state=2\n",
    ")"
   ]
  },
  {
   "cell_type": "code",
   "execution_count": null,
   "id": "1f087ae2",
   "metadata": {},
   "outputs": [],
   "source": [
    "model2 = LogisticRegression()"
   ]
  },
  {
   "cell_type": "code",
   "execution_count": null,
   "id": "79c47980",
   "metadata": {},
   "outputs": [],
   "source": [
    "model2.fit(X_train, y_train)"
   ]
  },
  {
   "cell_type": "code",
   "execution_count": null,
   "id": "12cd0dcb",
   "metadata": {},
   "outputs": [],
   "source": [
    "model2.score(X_test, y_test)"
   ]
  },
  {
   "cell_type": "code",
   "execution_count": null,
   "id": "9ce07e75",
   "metadata": {},
   "outputs": [],
   "source": [
    "model2.score(X_train, y_train)"
   ]
  },
  {
   "cell_type": "code",
   "execution_count": null,
   "id": "b1e5b08d",
   "metadata": {},
   "outputs": [],
   "source": [
    "test_predictions = model2.predict(X_test)"
   ]
  },
  {
   "cell_type": "code",
   "execution_count": null,
   "id": "2aeadcda",
   "metadata": {},
   "outputs": [],
   "source": [
    "print(classification_report(y_test, test_predictions))"
   ]
  },
  {
   "cell_type": "code",
   "execution_count": null,
   "id": "c6b87f1f",
   "metadata": {},
   "outputs": [],
   "source": [
    "print(classification_report(y_train, model2.predict(X_train)))"
   ]
  },
  {
   "cell_type": "code",
   "execution_count": null,
   "id": "d815c90f",
   "metadata": {},
   "outputs": [],
   "source": [
    "from sklearn.model_selection import cross_val_score"
   ]
  },
  {
   "cell_type": "code",
   "execution_count": null,
   "id": "029ba900",
   "metadata": {},
   "outputs": [],
   "source": [
    "scores_model1 = cross_val_score(model, new_X, targets, cv=6, n_jobs=-1)\n",
    "scores_model2 = cross_val_score(model2, new_x, targets, cv=6, n_jobs=-1)"
   ]
  },
  {
   "cell_type": "code",
   "execution_count": null,
   "id": "d37bc5a7",
   "metadata": {},
   "outputs": [],
   "source": [
    "scores_model1.mean()"
   ]
  },
  {
   "cell_type": "code",
   "execution_count": null,
   "id": "da284472",
   "metadata": {},
   "outputs": [],
   "source": [
    "scores_model2.mean()"
   ]
  },
  {
   "cell_type": "code",
   "execution_count": null,
   "id": "aaacc3b6",
   "metadata": {},
   "outputs": [],
   "source": [
    "dataset.head(10)"
   ]
  },
  {
   "cell_type": "code",
   "execution_count": null,
   "id": "d5d60297",
   "metadata": {},
   "outputs": [],
   "source": [
    "%matplotlib notebook"
   ]
  },
  {
   "cell_type": "code",
   "execution_count": null,
   "id": "1f5e9512",
   "metadata": {},
   "outputs": [],
   "source": [
    "sns.violinplot(x=\"target\", y=\"thalach\", data=dataset) # 0 female and 1 male"
   ]
  },
  {
   "cell_type": "code",
   "execution_count": null,
   "id": "0021e884",
   "metadata": {},
   "outputs": [],
   "source": [
    "sns.barplot(x=\"fbs\", y=\"target\", data=dataset) # 0 female and 1 male"
   ]
  },
  {
   "cell_type": "code",
   "execution_count": null,
   "id": "b26b52c8",
   "metadata": {},
   "outputs": [],
   "source": [
    "sns.countplot(x=\"sex\", hue=\"target\", data=dataset, palette=\"mako\")"
   ]
  },
  {
   "cell_type": "code",
   "execution_count": null,
   "id": "111e57bf",
   "metadata": {},
   "outputs": [],
   "source": [
    "sns.countplot(x=\"thal\", hue=\"target\", data=dataset, palette=\"rocket\")"
   ]
  },
  {
   "cell_type": "code",
   "execution_count": null,
   "id": "a308382a",
   "metadata": {},
   "outputs": [],
   "source": [
    "sns.countplot(x=\"exang\", hue=\"target\", data=dataset, palette=[\"violet\", \"red\"])"
   ]
  },
  {
   "cell_type": "code",
   "execution_count": null,
   "id": "d0608838",
   "metadata": {},
   "outputs": [],
   "source": [
    "sns.countplot(x=\"ca\", hue=\"target\", data=dataset)"
   ]
  },
  {
   "cell_type": "code",
   "execution_count": null,
   "id": "58677f9b",
   "metadata": {},
   "outputs": [],
   "source": [
    "sns.countplot(x=\"restecg\", hue=\"target\", data=dataset, palette=\"coolwarm\")"
   ]
  },
  {
   "cell_type": "code",
   "execution_count": null,
   "id": "14ddc09e",
   "metadata": {},
   "outputs": [],
   "source": [
    "sns.violinplot(x=\"target\", y=\"chol\", hue=\"sex\", data=dataset, palette=\"magma\")"
   ]
  },
  {
   "cell_type": "code",
   "execution_count": null,
   "id": "981bc3ce",
   "metadata": {},
   "outputs": [],
   "source": [
    "sns.countplot(x=\"fbs\", hue=\"target\", data=dataset, palette=[\"blue\", \"orange\"])"
   ]
  },
  {
   "cell_type": "code",
   "execution_count": null,
   "id": "1bf59b4f",
   "metadata": {},
   "outputs": [],
   "source": [
    "sns.barplot(x=\"cp\", y=\"oldpeak\", hue=\"target\", data=dataset, palette=\"rocket\")\n",
    "# plt.legend()"
   ]
  },
  {
   "cell_type": "code",
   "execution_count": null,
   "id": "5d8b0712",
   "metadata": {},
   "outputs": [],
   "source": [
    "sns.countplot(x=\"ca\", hue=\"target\", data=dataset, palette=\"rocket\")"
   ]
  },
  {
   "cell_type": "code",
   "execution_count": null,
   "id": "5390ee00",
   "metadata": {},
   "outputs": [],
   "source": [
    "sns.countplot(x=\"slope\", hue=\"target\", data=dataset, palette=\"coolwarm\")"
   ]
  },
  {
   "cell_type": "code",
   "execution_count": null,
   "id": "da8a9ebc",
   "metadata": {},
   "outputs": [],
   "source": [
    "categorized_data.head()"
   ]
  },
  {
   "cell_type": "code",
   "execution_count": null,
   "id": "ba7fdd13",
   "metadata": {},
   "outputs": [],
   "source": [
    "X = categorized_data.drop(columns=[\"chol\", \"fbs_1\", \"target_1\"])"
   ]
  },
  {
   "cell_type": "code",
   "execution_count": null,
   "id": "511205a1",
   "metadata": {},
   "outputs": [],
   "source": [
    "Y = categorized_data[\"target_1\"]"
   ]
  },
  {
   "cell_type": "code",
   "execution_count": null,
   "id": "405ee11b",
   "metadata": {},
   "outputs": [],
   "source": [
    "new_X1 = sc.fit_transform(X)"
   ]
  },
  {
   "cell_type": "code",
   "execution_count": null,
   "id": "2f384549",
   "metadata": {},
   "outputs": [],
   "source": [
    "X_train, X_test, y_train, y_test = train_test_split(\n",
    "    new_X1, Y, test_size=0.2, random_state=0\n",
    ")"
   ]
  },
  {
   "cell_type": "code",
   "execution_count": null,
   "id": "e47f2912",
   "metadata": {},
   "outputs": [],
   "source": [
    "model3 = LogisticRegression()"
   ]
  },
  {
   "cell_type": "code",
   "execution_count": null,
   "id": "e1ecb505",
   "metadata": {},
   "outputs": [],
   "source": [
    "model3.fit(X_train, y_train)\n",
    "# model3_b.fit(X_train, y_train)"
   ]
  },
  {
   "cell_type": "code",
   "execution_count": null,
   "id": "7e67fda3",
   "metadata": {},
   "outputs": [],
   "source": [
    "model3.score(X_test, y_test)"
   ]
  },
  {
   "cell_type": "code",
   "execution_count": null,
   "id": "beda157c",
   "metadata": {},
   "outputs": [],
   "source": [
    "model3.score(X_train, y_train)"
   ]
  },
  {
   "cell_type": "code",
   "execution_count": null,
   "id": "85b39524",
   "metadata": {},
   "outputs": [],
   "source": [
    "print(classification_report(y_test, model3.predict(X_test)))"
   ]
  },
  {
   "cell_type": "code",
   "execution_count": null,
   "id": "2984de5d",
   "metadata": {},
   "outputs": [],
   "source": [
    "print(classification_report(y_train, model3.predict(X_train)))"
   ]
  },
  {
   "cell_type": "code",
   "execution_count": null,
   "id": "335bbfbf",
   "metadata": {},
   "outputs": [],
   "source": [
    "scores_model3 = cross_val_score(model3, new_X1, Y, cv=6, n_jobs=-1)"
   ]
  },
  {
   "cell_type": "code",
   "execution_count": null,
   "id": "587c95d4",
   "metadata": {},
   "outputs": [],
   "source": [
    "scores_model1.mean(), scores_model2.mean(), scores_model3.mean()"
   ]
  }
 ],
 "metadata": {
  "kernelspec": {
   "display_name": "Python 3 (ipykernel)",
   "language": "python",
   "name": "python3"
  },
  "language_info": {
   "codemirror_mode": {
    "name": "ipython",
    "version": 3
   },
   "file_extension": ".py",
   "mimetype": "text/x-python",
   "name": "python",
   "nbconvert_exporter": "python",
   "pygments_lexer": "ipython3",
   "version": "3.10.9"
  }
 },
 "nbformat": 4,
 "nbformat_minor": 5
}
